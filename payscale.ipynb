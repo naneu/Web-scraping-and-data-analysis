{
 "cells": [
  {
   "cell_type": "code",
   "execution_count": 1,
   "metadata": {
    "id": "V5unCzHRVOXG"
   },
   "outputs": [],
   "source": [
    "import pandas as pd\n",
    "import re"
   ]
  },
  {
   "cell_type": "code",
   "execution_count": 2,
   "metadata": {
    "colab": {
     "base_uri": "https://localhost:8080/",
     "height": 206
    },
    "id": "ShQLlfRXVZc9",
    "outputId": "dce8e634-0a26-4134-e4bc-18da7f170cda"
   },
   "outputs": [
    {
     "data": {
      "text/html": [
       "<div>\n",
       "<style scoped>\n",
       "    .dataframe tbody tr th:only-of-type {\n",
       "        vertical-align: middle;\n",
       "    }\n",
       "\n",
       "    .dataframe tbody tr th {\n",
       "        vertical-align: top;\n",
       "    }\n",
       "\n",
       "    .dataframe thead th {\n",
       "        text-align: right;\n",
       "    }\n",
       "</style>\n",
       "<table border=\"1\" class=\"dataframe\">\n",
       "  <thead>\n",
       "    <tr style=\"text-align: right;\">\n",
       "      <th></th>\n",
       "      <th>Rank</th>\n",
       "      <th>Major</th>\n",
       "      <th>DegreeType</th>\n",
       "      <th>EarlyCareerPay</th>\n",
       "      <th>MidCareerPay</th>\n",
       "      <th>HighMeaning</th>\n",
       "    </tr>\n",
       "  </thead>\n",
       "  <tbody>\n",
       "    <tr>\n",
       "      <th>0</th>\n",
       "      <td>1</td>\n",
       "      <td>Petroleum Engineering</td>\n",
       "      <td>Bachelors</td>\n",
       "      <td>$93,200</td>\n",
       "      <td>$187,300</td>\n",
       "      <td>67%</td>\n",
       "    </tr>\n",
       "    <tr>\n",
       "      <th>1</th>\n",
       "      <td>2</td>\n",
       "      <td>Operations Research &amp; Industrial Engineering</td>\n",
       "      <td>Bachelors</td>\n",
       "      <td>$84,800</td>\n",
       "      <td>$170,400</td>\n",
       "      <td>28%</td>\n",
       "    </tr>\n",
       "    <tr>\n",
       "      <th>2</th>\n",
       "      <td>3</td>\n",
       "      <td>Electrical Engineering &amp; Computer Science (EECS)</td>\n",
       "      <td>Bachelors</td>\n",
       "      <td>$108,500</td>\n",
       "      <td>$159,300</td>\n",
       "      <td>46%</td>\n",
       "    </tr>\n",
       "    <tr>\n",
       "      <th>3</th>\n",
       "      <td>4</td>\n",
       "      <td>Interaction Design</td>\n",
       "      <td>Bachelors</td>\n",
       "      <td>$68,300</td>\n",
       "      <td>$155,800</td>\n",
       "      <td>55%</td>\n",
       "    </tr>\n",
       "    <tr>\n",
       "      <th>4</th>\n",
       "      <td>5</td>\n",
       "      <td>Public Accounting</td>\n",
       "      <td>Bachelors</td>\n",
       "      <td>$59,800</td>\n",
       "      <td>$147,700</td>\n",
       "      <td>47%</td>\n",
       "    </tr>\n",
       "  </tbody>\n",
       "</table>\n",
       "</div>"
      ],
      "text/plain": [
       "   Rank                                             Major DegreeType  \\\n",
       "0     1                             Petroleum Engineering  Bachelors   \n",
       "1     2      Operations Research & Industrial Engineering  Bachelors   \n",
       "2     3  Electrical Engineering & Computer Science (EECS)  Bachelors   \n",
       "3     4                                Interaction Design  Bachelors   \n",
       "4     5                                 Public Accounting  Bachelors   \n",
       "\n",
       "  EarlyCareerPay MidCareerPay HighMeaning  \n",
       "0        $93,200     $187,300         67%  \n",
       "1        $84,800     $170,400         28%  \n",
       "2       $108,500     $159,300         46%  \n",
       "3        $68,300     $155,800         55%  \n",
       "4        $59,800     $147,700         47%  "
      ]
     },
     "execution_count": 2,
     "metadata": {},
     "output_type": "execute_result"
    }
   ],
   "source": [
    "#read csv and insert headers\n",
    "df = pd.read_csv('payscale_data_2.csv', names=['Rank','Major', 'DegreeType', 'EarlyCareerPay', 'MidCareerPay', 'HighMeaning'])\n",
    "df.head()"
   ]
  },
  {
   "cell_type": "code",
   "execution_count": 3,
   "metadata": {
    "id": "8GdsRnmiWr6F"
   },
   "outputs": [],
   "source": [
    "df = df.drop(['DegreeType', 'Rank'], axis = 1)"
   ]
  },
  {
   "cell_type": "code",
   "execution_count": 4,
   "metadata": {
    "colab": {
     "base_uri": "https://localhost:8080/"
    },
    "id": "S6Clsx9VXEd_",
    "outputId": "3665f203-5a80-4b7e-83c6-a0ac17cf8cb5"
   },
   "outputs": [
    {
     "name": "stdout",
     "output_type": "stream",
     "text": [
      "Count total NaN at each column in a DataFrame : \n",
      "\n",
      "\n"
     ]
    },
    {
     "data": {
      "text/plain": [
       "Major             0\n",
       "EarlyCareerPay    0\n",
       "MidCareerPay      0\n",
       "HighMeaning       0\n",
       "dtype: int64"
      ]
     },
     "execution_count": 4,
     "metadata": {},
     "output_type": "execute_result"
    }
   ],
   "source": [
    "#finding nan values\n",
    "print(\"Count total NaN at each column in a DataFrame : \\n\\n\")\n",
    "df.isnull().sum()\n",
    "\n",
    "# df.isna().values.any()"
   ]
  },
  {
   "cell_type": "code",
   "execution_count": 5,
   "metadata": {
    "colab": {
     "base_uri": "https://localhost:8080/",
     "height": 206
    },
    "id": "jHQmqIKebZiX",
    "outputId": "87b003f7-22c1-4427-ab62-b98a9f2f3245"
   },
   "outputs": [
    {
     "data": {
      "text/html": [
       "<div>\n",
       "<style scoped>\n",
       "    .dataframe tbody tr th:only-of-type {\n",
       "        vertical-align: middle;\n",
       "    }\n",
       "\n",
       "    .dataframe tbody tr th {\n",
       "        vertical-align: top;\n",
       "    }\n",
       "\n",
       "    .dataframe thead th {\n",
       "        text-align: right;\n",
       "    }\n",
       "</style>\n",
       "<table border=\"1\" class=\"dataframe\">\n",
       "  <thead>\n",
       "    <tr style=\"text-align: right;\">\n",
       "      <th></th>\n",
       "      <th>Major</th>\n",
       "      <th>EarlyCareerPay</th>\n",
       "      <th>MidCareerPay</th>\n",
       "      <th>HighMeaning</th>\n",
       "    </tr>\n",
       "  </thead>\n",
       "  <tbody>\n",
       "    <tr>\n",
       "      <th>0</th>\n",
       "      <td>Petroleum Engineering</td>\n",
       "      <td>93200</td>\n",
       "      <td>187300</td>\n",
       "      <td>67</td>\n",
       "    </tr>\n",
       "    <tr>\n",
       "      <th>1</th>\n",
       "      <td>Operations Research &amp; Industrial Engineering</td>\n",
       "      <td>84800</td>\n",
       "      <td>170400</td>\n",
       "      <td>28</td>\n",
       "    </tr>\n",
       "    <tr>\n",
       "      <th>2</th>\n",
       "      <td>Electrical Engineering &amp; Computer Science (EECS)</td>\n",
       "      <td>108500</td>\n",
       "      <td>159300</td>\n",
       "      <td>46</td>\n",
       "    </tr>\n",
       "    <tr>\n",
       "      <th>3</th>\n",
       "      <td>Interaction Design</td>\n",
       "      <td>68300</td>\n",
       "      <td>155800</td>\n",
       "      <td>55</td>\n",
       "    </tr>\n",
       "    <tr>\n",
       "      <th>4</th>\n",
       "      <td>Public Accounting</td>\n",
       "      <td>59800</td>\n",
       "      <td>147700</td>\n",
       "      <td>47</td>\n",
       "    </tr>\n",
       "  </tbody>\n",
       "</table>\n",
       "</div>"
      ],
      "text/plain": [
       "                                              Major EarlyCareerPay  \\\n",
       "0                             Petroleum Engineering          93200   \n",
       "1      Operations Research & Industrial Engineering          84800   \n",
       "2  Electrical Engineering & Computer Science (EECS)         108500   \n",
       "3                                Interaction Design          68300   \n",
       "4                                 Public Accounting          59800   \n",
       "\n",
       "  MidCareerPay HighMeaning  \n",
       "0       187300          67  \n",
       "1       170400          28  \n",
       "2       159300          46  \n",
       "3       155800          55  \n",
       "4       147700          47  "
      ]
     },
     "execution_count": 5,
     "metadata": {},
     "output_type": "execute_result"
    }
   ],
   "source": [
    "df.EarlyCareerPay = df.EarlyCareerPay.map(lambda x: re.sub(r'\\W+', '', x))\n",
    "df.MidCareerPay = df.MidCareerPay.map(lambda x: re.sub(r'\\W+', '', x))\n",
    "df.HighMeaning = df.HighMeaning.map(lambda x: re.sub(r'\\W+', '', x))\n",
    "df.head()"
   ]
  },
  {
   "cell_type": "code",
   "execution_count": 6,
   "metadata": {
    "colab": {
     "base_uri": "https://localhost:8080/"
    },
    "id": "RV1WbBuicU4z",
    "outputId": "f742a9f8-c870-4aaf-8e17-6962a1087d21"
   },
   "outputs": [
    {
     "data": {
      "text/plain": [
       "Major             object\n",
       "EarlyCareerPay    object\n",
       "MidCareerPay      object\n",
       "HighMeaning       object\n",
       "dtype: object"
      ]
     },
     "execution_count": 6,
     "metadata": {},
     "output_type": "execute_result"
    }
   ],
   "source": [
    "df.dtypes"
   ]
  },
  {
   "cell_type": "code",
   "execution_count": 7,
   "metadata": {
    "colab": {
     "base_uri": "https://localhost:8080/"
    },
    "id": "k-yl-plBgOQ-",
    "outputId": "fe2185c1-0787-4df7-af0f-f55f8a1b5b97"
   },
   "outputs": [
    {
     "name": "stdout",
     "output_type": "stream",
     "text": [
      "Major              object\n",
      "EarlyCareerPay      int64\n",
      "MidCareerPay        int64\n",
      "HighMeaning       float64\n",
      "dtype: object\n"
     ]
    }
   ],
   "source": [
    "df[['EarlyCareerPay', 'MidCareerPay', 'HighMeaning']] = df[['EarlyCareerPay', 'MidCareerPay', 'HighMeaning']].apply(pd.to_numeric)\n",
    "print(df.dtypes)"
   ]
  },
  {
   "cell_type": "code",
   "execution_count": 8,
   "metadata": {
    "colab": {
     "base_uri": "https://localhost:8080/"
    },
    "id": "nNYm7OkgiX-5",
    "outputId": "b0f22522-b500-48ba-b0c9-f8a3519fad2d"
   },
   "outputs": [
    {
     "data": {
      "text/plain": [
       "108500"
      ]
     },
     "execution_count": 8,
     "metadata": {},
     "output_type": "execute_result"
    }
   ],
   "source": [
    "df.EarlyCareerPay.max()"
   ]
  },
  {
   "cell_type": "code",
   "execution_count": 9,
   "metadata": {
    "colab": {
     "base_uri": "https://localhost:8080/"
    },
    "id": "UfbhKSsEipHl",
    "outputId": "f8bb6e1f-6dfd-4ce2-d990-489126d1ae62"
   },
   "outputs": [
    {
     "data": {
      "text/plain": [
       "Major             Electrical Engineering & Computer Science (EECS)\n",
       "EarlyCareerPay                                              108500\n",
       "MidCareerPay                                                159300\n",
       "HighMeaning                                                     46\n",
       "Name: 2, dtype: object"
      ]
     },
     "execution_count": 9,
     "metadata": {},
     "output_type": "execute_result"
    }
   ],
   "source": [
    "id = df.EarlyCareerPay.idxmax()\n",
    "df.loc[id]"
   ]
  },
  {
   "cell_type": "code",
   "execution_count": 10,
   "metadata": {
    "colab": {
     "base_uri": "https://localhost:8080/",
     "height": 35
    },
    "id": "k9rIn_Rai20D",
    "outputId": "70419282-7263-4be2-97e3-f2a410759053"
   },
   "outputs": [
    {
     "data": {
      "text/plain": [
       "'Petroleum Engineering'"
      ]
     },
     "execution_count": 10,
     "metadata": {},
     "output_type": "execute_result"
    }
   ],
   "source": [
    "df.Major.loc[df.MidCareerPay.idxmax()]"
   ]
  },
  {
   "cell_type": "code",
   "execution_count": 11,
   "metadata": {
    "colab": {
     "base_uri": "https://localhost:8080/",
     "height": 35
    },
    "id": "gnZ0n-ASjLuz",
    "outputId": "f3a4b601-5024-4897-966b-b41b1263b655"
   },
   "outputs": [
    {
     "data": {
      "text/plain": [
       "'Voice & Opera'"
      ]
     },
     "execution_count": 11,
     "metadata": {},
     "output_type": "execute_result"
    }
   ],
   "source": [
    "df.Major.loc[df.EarlyCareerPay.idxmin()]"
   ]
  },
  {
   "cell_type": "code",
   "execution_count": 12,
   "metadata": {
    "colab": {
     "base_uri": "https://localhost:8080/"
    },
    "id": "6z6PS4EEjYZR",
    "outputId": "446f102d-3eff-4e0c-ad11-704dbe786fb0"
   },
   "outputs": [
    {
     "data": {
      "text/plain": [
       "Major             Metalsmithing\n",
       "EarlyCareerPay            40000\n",
       "MidCareerPay              40300\n",
       "HighMeaning                  33\n",
       "Name: 826, dtype: object"
      ]
     },
     "execution_count": 12,
     "metadata": {},
     "output_type": "execute_result"
    }
   ],
   "source": [
    "df.loc[df.MidCareerPay.idxmin()]"
   ]
  },
  {
   "cell_type": "code",
   "execution_count": 13,
   "metadata": {
    "colab": {
     "base_uri": "https://localhost:8080/",
     "height": 206
    },
    "id": "VOOMTvQfjmmN",
    "outputId": "53605d0f-5c07-4de7-9c32-c7c9c756a680"
   },
   "outputs": [
    {
     "data": {
      "text/html": [
       "<div>\n",
       "<style scoped>\n",
       "    .dataframe tbody tr th:only-of-type {\n",
       "        vertical-align: middle;\n",
       "    }\n",
       "\n",
       "    .dataframe tbody tr th {\n",
       "        vertical-align: top;\n",
       "    }\n",
       "\n",
       "    .dataframe thead th {\n",
       "        text-align: right;\n",
       "    }\n",
       "</style>\n",
       "<table border=\"1\" class=\"dataframe\">\n",
       "  <thead>\n",
       "    <tr style=\"text-align: right;\">\n",
       "      <th></th>\n",
       "      <th>Major</th>\n",
       "      <th>EarlyCareerPay</th>\n",
       "      <th>Spread</th>\n",
       "      <th>MidCareerPay</th>\n",
       "      <th>HighMeaning</th>\n",
       "    </tr>\n",
       "  </thead>\n",
       "  <tbody>\n",
       "    <tr>\n",
       "      <th>0</th>\n",
       "      <td>Petroleum Engineering</td>\n",
       "      <td>93200</td>\n",
       "      <td>94100</td>\n",
       "      <td>187300</td>\n",
       "      <td>67.0</td>\n",
       "    </tr>\n",
       "    <tr>\n",
       "      <th>1</th>\n",
       "      <td>Operations Research &amp; Industrial Engineering</td>\n",
       "      <td>84800</td>\n",
       "      <td>85600</td>\n",
       "      <td>170400</td>\n",
       "      <td>28.0</td>\n",
       "    </tr>\n",
       "    <tr>\n",
       "      <th>2</th>\n",
       "      <td>Electrical Engineering &amp; Computer Science (EECS)</td>\n",
       "      <td>108500</td>\n",
       "      <td>50800</td>\n",
       "      <td>159300</td>\n",
       "      <td>46.0</td>\n",
       "    </tr>\n",
       "    <tr>\n",
       "      <th>3</th>\n",
       "      <td>Interaction Design</td>\n",
       "      <td>68300</td>\n",
       "      <td>87500</td>\n",
       "      <td>155800</td>\n",
       "      <td>55.0</td>\n",
       "    </tr>\n",
       "    <tr>\n",
       "      <th>4</th>\n",
       "      <td>Public Accounting</td>\n",
       "      <td>59800</td>\n",
       "      <td>87900</td>\n",
       "      <td>147700</td>\n",
       "      <td>47.0</td>\n",
       "    </tr>\n",
       "  </tbody>\n",
       "</table>\n",
       "</div>"
      ],
      "text/plain": [
       "                                              Major  EarlyCareerPay  Spread  \\\n",
       "0                             Petroleum Engineering           93200   94100   \n",
       "1      Operations Research & Industrial Engineering           84800   85600   \n",
       "2  Electrical Engineering & Computer Science (EECS)          108500   50800   \n",
       "3                                Interaction Design           68300   87500   \n",
       "4                                 Public Accounting           59800   87900   \n",
       "\n",
       "   MidCareerPay  HighMeaning  \n",
       "0        187300         67.0  \n",
       "1        170400         28.0  \n",
       "2        159300         46.0  \n",
       "3        155800         55.0  \n",
       "4        147700         47.0  "
      ]
     },
     "execution_count": 13,
     "metadata": {},
     "output_type": "execute_result"
    }
   ],
   "source": [
    "Spread_col = df.MidCareerPay - df.EarlyCareerPay\n",
    "df.insert(2, 'Spread', Spread_col)\n",
    "df.head()"
   ]
  },
  {
   "cell_type": "code",
   "execution_count": 14,
   "metadata": {
    "colab": {
     "base_uri": "https://localhost:8080/",
     "height": 206
    },
    "id": "ygAzDKiokOts",
    "outputId": "67ab39a2-132e-4032-ace6-4012ac0ada0b"
   },
   "outputs": [
    {
     "data": {
      "text/html": [
       "<div>\n",
       "<style scoped>\n",
       "    .dataframe tbody tr th:only-of-type {\n",
       "        vertical-align: middle;\n",
       "    }\n",
       "\n",
       "    .dataframe tbody tr th {\n",
       "        vertical-align: top;\n",
       "    }\n",
       "\n",
       "    .dataframe thead th {\n",
       "        text-align: right;\n",
       "    }\n",
       "</style>\n",
       "<table border=\"1\" class=\"dataframe\">\n",
       "  <thead>\n",
       "    <tr style=\"text-align: right;\">\n",
       "      <th></th>\n",
       "      <th>Major</th>\n",
       "      <th>Spread</th>\n",
       "    </tr>\n",
       "  </thead>\n",
       "  <tbody>\n",
       "    <tr>\n",
       "      <th>0</th>\n",
       "      <td>Petroleum Engineering</td>\n",
       "      <td>94100</td>\n",
       "    </tr>\n",
       "    <tr>\n",
       "      <th>4</th>\n",
       "      <td>Public Accounting</td>\n",
       "      <td>87900</td>\n",
       "    </tr>\n",
       "    <tr>\n",
       "      <th>3</th>\n",
       "      <td>Interaction Design</td>\n",
       "      <td>87500</td>\n",
       "    </tr>\n",
       "    <tr>\n",
       "      <th>1</th>\n",
       "      <td>Operations Research &amp; Industrial Engineering</td>\n",
       "      <td>85600</td>\n",
       "    </tr>\n",
       "    <tr>\n",
       "      <th>10</th>\n",
       "      <td>Information &amp; Computer Science</td>\n",
       "      <td>82300</td>\n",
       "    </tr>\n",
       "  </tbody>\n",
       "</table>\n",
       "</div>"
      ],
      "text/plain": [
       "                                           Major  Spread\n",
       "0                          Petroleum Engineering   94100\n",
       "4                              Public Accounting   87900\n",
       "3                             Interaction Design   87500\n",
       "1   Operations Research & Industrial Engineering   85600\n",
       "10                Information & Computer Science   82300"
      ]
     },
     "execution_count": 14,
     "metadata": {},
     "output_type": "execute_result"
    }
   ],
   "source": [
    "low_risk = df.sort_values('Spread', ascending=False)\n",
    "low_risk[['Major', 'Spread']].head()"
   ]
  },
  {
   "cell_type": "code",
   "execution_count": 15,
   "metadata": {
    "colab": {
     "base_uri": "https://localhost:8080/",
     "height": 206
    },
    "id": "7bv0Sp9Dko-C",
    "outputId": "3c861891-31a8-4a6b-c8c4-92153c57e793"
   },
   "outputs": [
    {
     "data": {
      "text/html": [
       "<div>\n",
       "<style scoped>\n",
       "    .dataframe tbody tr th:only-of-type {\n",
       "        vertical-align: middle;\n",
       "    }\n",
       "\n",
       "    .dataframe tbody tr th {\n",
       "        vertical-align: top;\n",
       "    }\n",
       "\n",
       "    .dataframe thead th {\n",
       "        text-align: right;\n",
       "    }\n",
       "</style>\n",
       "<table border=\"1\" class=\"dataframe\">\n",
       "  <thead>\n",
       "    <tr style=\"text-align: right;\">\n",
       "      <th></th>\n",
       "      <th>Major</th>\n",
       "      <th>MidCareerPay</th>\n",
       "    </tr>\n",
       "  </thead>\n",
       "  <tbody>\n",
       "    <tr>\n",
       "      <th>0</th>\n",
       "      <td>Petroleum Engineering</td>\n",
       "      <td>187300</td>\n",
       "    </tr>\n",
       "    <tr>\n",
       "      <th>1</th>\n",
       "      <td>Operations Research &amp; Industrial Engineering</td>\n",
       "      <td>170400</td>\n",
       "    </tr>\n",
       "    <tr>\n",
       "      <th>2</th>\n",
       "      <td>Electrical Engineering &amp; Computer Science (EECS)</td>\n",
       "      <td>159300</td>\n",
       "    </tr>\n",
       "    <tr>\n",
       "      <th>3</th>\n",
       "      <td>Interaction Design</td>\n",
       "      <td>155800</td>\n",
       "    </tr>\n",
       "    <tr>\n",
       "      <th>4</th>\n",
       "      <td>Public Accounting</td>\n",
       "      <td>147700</td>\n",
       "    </tr>\n",
       "  </tbody>\n",
       "</table>\n",
       "</div>"
      ],
      "text/plain": [
       "                                              Major  MidCareerPay\n",
       "0                             Petroleum Engineering        187300\n",
       "1      Operations Research & Industrial Engineering        170400\n",
       "2  Electrical Engineering & Computer Science (EECS)        159300\n",
       "3                                Interaction Design        155800\n",
       "4                                 Public Accounting        147700"
      ]
     },
     "execution_count": 15,
     "metadata": {},
     "output_type": "execute_result"
    }
   ],
   "source": [
    "high_potential = df.sort_values('MidCareerPay', ascending=False)\n",
    "high_potential[['Major', 'MidCareerPay']].head()"
   ]
  },
  {
   "cell_type": "code",
   "execution_count": null,
   "metadata": {
    "id": "CS1QFL6ElmL5"
   },
   "outputs": [],
   "source": []
  }
 ],
 "metadata": {
  "colab": {
   "collapsed_sections": [],
   "name": "payscale",
   "provenance": []
  },
  "kernelspec": {
   "display_name": "Python 3",
   "language": "python",
   "name": "python3"
  },
  "language_info": {
   "codemirror_mode": {
    "name": "ipython",
    "version": 3
   },
   "file_extension": ".py",
   "mimetype": "text/x-python",
   "name": "python",
   "nbconvert_exporter": "python",
   "pygments_lexer": "ipython3",
   "version": "3.7.6"
  }
 },
 "nbformat": 4,
 "nbformat_minor": 1
}
